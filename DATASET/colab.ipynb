{
  "cells": [
    {
      "cell_type": "code",
      "execution_count": null,
      "metadata": {
        "id": "dFjNo2tG0_5h",
        "collapsed": true
      },
      "outputs": [],
      "source": [
        "# @title Install packages and download weights (takes ~2mins)\n",
        "\n",
        "!pip uninstall aria-amt\n",
        "!pip install git+https://github.com/EleutherAI/aria-amt.git\n",
        "!pip install yt-dlp\n",
        "\n",
        "import os\n",
        "import sys\n",
        "\n",
        "MODEL_NAME = \"medium-stacked\"\n",
        "CHECKPOINT_NAME = f\"piano-medium-stacked-1.0\"\n",
        "\n",
        "if not os.path.isfile(f\"{CHECKPOINT_NAME}.safetensors\"):\n",
        "  !wget https://storage.googleapis.com/aria-checkpoints/amt/{CHECKPOINT_NAME}.safetensors\n",
        "else:\n",
        "  print(f\"Checkpoint already exists at {CHECKPOINT_NAME} - skipping download\")\n"
      ]
    },
    {
      "cell_type": "code",
      "execution_count": null,
      "metadata": {
        "id": "7YxPZ9ljQ46p",
        "collapsed": true
      },
      "outputs": [],
      "source": [
        "# Download audio from YouTube\n",
        "\n",
        "YOUTUBE_LINK = \"https://www.youtube.com/watch?v=HZ-TKo2oxHE\" # @param Add this yourself after uploading\n",
        "\n",
        "!yt-dlp --no-playlist --force-overwrites --audio-format mp3 --extract-audio --audio-quality 0 {YOUTUBE_LINK} -o audio.mp3\n"
      ]
    },
    {
      "cell_type": "code",
      "execution_count": null,
      "metadata": {
        "id": "dzkZTjou1xKb",
        "collapsed": true
      },
      "outputs": [],
      "source": [
        "# Transcribe\n",
        "\n",
        "print(\"NOTE: The progress bar tracks transcription of each 10s interval\")\n",
        "print(\"NOTE: This code will wait for 30s after finishing the transcription\")\n",
        "print(\"NOTE: Removing the compile flag will remove the initial cost associated with compilation, but will slow down inference\\n\")\n",
        "\n",
        "!aria-amt transcribe {MODEL_NAME} {CHECKPOINT_NAME}.safetensors -load_path=audio.mp3 -save_dir=. -bs=1"
      ]
    },
    {
      "cell_type": "code",
      "source": [
        "# Download transcription\n",
        "\n",
        "from google.colab import files\n",
        "\n",
        "files.download('audio.mid')"
      ],
      "metadata": {
        "id": "x_URpWlTG-P0"
      },
      "execution_count": null,
      "outputs": []
    },
    {
      "cell_type": "markdown",
      "source": [
        "# **run aria-amt on json file of yt links**"
      ],
      "metadata": {
        "id": "Mby-_vysnrJU"
      }
    },
    {
      "cell_type": "code",
      "source": [
        "# upload json\n",
        "from google.colab import files\n",
        "\n",
        "uploaded = files.upload()"
      ],
      "metadata": {
        "id": "3pBnHDrNnq4Z"
      },
      "execution_count": null,
      "outputs": []
    },
    {
      "cell_type": "code",
      "source": [
        "# load json file to list / txt file\n",
        "\n",
        "import json\n",
        "import os\n",
        "import sys\n",
        "\n",
        "def load_json(json_file, path=\"yt-links.txt\"):\n",
        "    links = []\n",
        "    # if os.path.isfile(path):\n",
        "    #     run_again = input(\"rewrite links text file? (y/n)\")\n",
        "    #     if (run_again.lower() != \"y\"):\n",
        "    #         with open(path, 'w') as file:\n",
        "    #             links = file.readlines()\n",
        "    #         return links\n",
        "    try:\n",
        "        if not os.path.isfile(path):\n",
        "          txt_file = open(path, 'x')\n",
        "    except:\n",
        "        print(\"rewriting file...\")\n",
        "    with open(json_file) as file:\n",
        "        for line in file:\n",
        "            try:\n",
        "                link = json.loads(line).get(\"url\")\n",
        "                links.append(link)\n",
        "                with open(path, 'w') as file:\n",
        "                  file.write(link)\n",
        "                print(link)\n",
        "            except:\n",
        "                print(\"ERROR: json line fail\")\n",
        "    return links"
      ],
      "metadata": {
        "id": "pgxJaAhUmfxh"
      },
      "execution_count": null,
      "outputs": []
    },
    {
      "cell_type": "code",
      "source": [
        "# download yt link from json file\n",
        "\n",
        "def download_from_json(yt_links, i):\n",
        "    print(\"downloading links..\")\n",
        "    try:\n",
        "        x = yt_links[i]\n",
        "    except:\n",
        "        print(\"out of range\")\n",
        "        return\n",
        "    if not os.path.isfile(f\"audio-{i}.mp3\"):\n",
        "      !yt-dlp --no-playlist --force-overwrites --audio-format mp3 --extract-audio --audio-quality 0 {yt_links[i]} -o audio-{i}.mp3\n",
        "      print(\"downloaded audio \" + yt_links[i])\n",
        "    else:\n",
        "      print(\"already downloaded: \" + yt_links[i])"
      ],
      "metadata": {
        "id": "c3y1y_PEmwpl"
      },
      "execution_count": null,
      "outputs": []
    },
    {
      "cell_type": "code",
      "source": [
        "# run aria on mp3 file\n",
        "\n",
        "def run_aria_amt(path, directory=\".\"):\n",
        "    !aria-amt transcribe {MODEL_NAME} {CHECKPOINT_NAME}.safetensors -load_path={path} -save_dir={directory} -bs=1"
      ],
      "metadata": {
        "id": "rJBUxt9dm58G"
      },
      "execution_count": null,
      "outputs": []
    },
    {
      "cell_type": "code",
      "source": [
        "# load/reload json file\n",
        "\n",
        "FILE_PATH = \"test.json\" # @param {type:\"raw\"}\n",
        "LINKS = load_json(FILE_PATH)"
      ],
      "metadata": {
        "id": "geiwWIjzm6hC"
      },
      "execution_count": null,
      "outputs": []
    },
    {
      "cell_type": "code",
      "source": [
        "# test yt-dlp & aria-amt\n",
        "download_from_json(LINKS, 0)\n",
        "\n",
        "if not os.path.isdir(\"midi\"):\n",
        "    !mkdir midi\n",
        "\n",
        "run_aria_amt(\"audio-0.mp3\")"
      ],
      "metadata": {
        "id": "02J2OROHu4MF"
      },
      "execution_count": null,
      "outputs": []
    },
    {
      "cell_type": "code",
      "source": [
        "# run on all links in json\n",
        "\n",
        "START = 0\n",
        "END = len(LINKS) # not included\n",
        "\n",
        "if not os.path.isdir(\"midi\"):\n",
        "    !mkdir midi\n",
        "\n",
        "for i in range(START, END):\n",
        "  print(\"downloading\")\n",
        "  download_from_json(LINKS, i)\n",
        "  run_aria_amt(f\"audio-{i}.mp3\")\n",
        "  try:\n",
        "    !rm audio-{i}.mp3\n",
        "  except:\n",
        "    print(\"file was not found or could not be removed\")"
      ],
      "metadata": {
        "id": "qRZPBaVRyhhx"
      },
      "execution_count": null,
      "outputs": []
    },
    {
      "cell_type": "code",
      "source": [
        "# download midi folder\n",
        "\n",
        "import shutil\n",
        "\n",
        "shutil.make_archive(\"midi\", 'zip', \"midi\")\n",
        "files.download(\"midi.zip\")"
      ],
      "metadata": {
        "id": "DgaDKWYo1ZFU"
      },
      "execution_count": null,
      "outputs": []
    }
  ],
  "metadata": {
    "accelerator": "GPU",
    "colab": {
      "gpuType": "T4",
      "provenance": []
    },
    "kernelspec": {
      "display_name": "Python 3",
      "name": "python3"
    },
    "language_info": {
      "name": "python"
    }
  },
  "nbformat": 4,
  "nbformat_minor": 0
}